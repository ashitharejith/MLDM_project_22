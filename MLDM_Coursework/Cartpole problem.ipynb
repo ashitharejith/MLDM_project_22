{
 "cells": [
  {
   "cell_type": "markdown",
   "metadata": {},
   "source": [
    "# Cartpole problem - Reinforcement Learning"
   ]
  },
  {
   "cell_type": "code",
   "execution_count": 2,
   "metadata": {},
   "outputs": [],
   "source": [
    "import gym\n",
    "import numpy as np\n",
    "import random\n",
    "import matplotlib.pyplot as plt"
   ]
  },
  {
   "cell_type": "markdown",
   "metadata": {},
   "source": [
    "### Creating environment"
   ]
  },
  {
   "cell_type": "code",
   "execution_count": 3,
   "metadata": {},
   "outputs": [],
   "source": [
    "env = gym.make('CartPole-v0')"
   ]
  },
  {
   "cell_type": "markdown",
   "metadata": {},
   "source": [
    "### Q table creation"
   ]
  },
  {
   "cell_type": "code",
   "execution_count": 4,
   "metadata": {},
   "outputs": [],
   "source": [
    "def q_table():\n",
    "\n",
    "    tot_bins = 20\n",
    "    space_size_obs = len(env.observation_space.high)\n",
    "\n",
    "    # each bucket size are found\n",
    "    bins = [np.linspace(-4.8, 4.8, tot_bins), np.linspace(-4, 4, tot_bins), np.linspace(-.418, .418, tot_bins), np.linspace(-4, 4, tot_bins)]\n",
    "\n",
    "    qTable = np.random.uniform(low=-2, high=0, size=([tot_bins] * space_size_obs + [env.action_space.n]))\n",
    "\n",
    "    return bins, space_size_obs, qTable"
   ]
  },
  {
   "cell_type": "markdown",
   "metadata": {},
   "source": [
    "### Defining the variables "
   ]
  },
  {
   "cell_type": "code",
   "execution_count": 5,
   "metadata": {},
   "outputs": [],
   "source": [
    "lr = 0.1\n",
    "# Gamma should be between 1 and 0.\n",
    "gamma = 0.95\n",
    "episodes = 10000  # total number of episodes\n",
    "update = 2000  # when to update\n",
    "timestep = 100  # timesteps given"
   ]
  },
  {
   "cell_type": "code",
   "execution_count": 8,
   "metadata": {
    "scrolled": false
   },
   "outputs": [
    {
     "name": "stdout",
     "output_type": "stream",
     "text": [
      "Episode: 0 Average: 17.0 Min: 17 Max: 17\n",
      "Episode: 100 Average: 21.31 Min: 8 Max: 60\n",
      "Episode: 200 Average: 21.21 Min: 8 Max: 54\n",
      "Episode: 300 Average: 21.47 Min: 9 Max: 52\n",
      "Episode: 400 Average: 22.99 Min: 8 Max: 78\n",
      "Episode: 500 Average: 26.11 Min: 9 Max: 120\n",
      "Episode: 600 Average: 29.37 Min: 8 Max: 103\n",
      "Episode: 700 Average: 27.99 Min: 10 Max: 72\n",
      "Episode: 800 Average: 29.07 Min: 8 Max: 111\n",
      "Episode: 900 Average: 33.87 Min: 10 Max: 111\n",
      "Episode: 1000 Average: 32.64 Min: 10 Max: 122\n",
      "Episode: 1100 Average: 34.97 Min: 9 Max: 111\n",
      "Episode: 1200 Average: 40.28 Min: 10 Max: 146\n",
      "Episode: 1300 Average: 39.54 Min: 9 Max: 114\n",
      "Episode: 1400 Average: 50.07 Min: 10 Max: 184\n",
      "Episode: 1500 Average: 42.47 Min: 10 Max: 154\n",
      "Episode: 1600 Average: 48.97 Min: 12 Max: 139\n",
      "Episode: 1700 Average: 51.02 Min: 11 Max: 127\n",
      "Episode: 1800 Average: 55.87 Min: 10 Max: 134\n",
      "Episode: 1900 Average: 55.87 Min: 12 Max: 138\n",
      "Episode: 2000 Average: 58.92 Min: 9 Max: 164\n",
      "Episode: 2100 Average: 61.14 Min: 11 Max: 180\n",
      "Episode: 2200 Average: 69.27 Min: 12 Max: 200\n",
      "Episode: 2300 Average: 68.27 Min: 13 Max: 200\n",
      "Episode: 2400 Average: 80.64 Min: 17 Max: 200\n",
      "Episode: 2500 Average: 73.44 Min: 10 Max: 200\n",
      "Episode: 2600 Average: 97.14 Min: 11 Max: 200\n",
      "Episode: 2700 Average: 87.45 Min: 10 Max: 200\n",
      "Episode: 2800 Average: 95.45 Min: 10 Max: 200\n",
      "Episode: 2900 Average: 102.83 Min: 16 Max: 200\n",
      "Episode: 3000 Average: 118.34 Min: 12 Max: 200\n",
      "Episode: 3100 Average: 118.71 Min: 11 Max: 200\n",
      "Episode: 3200 Average: 123.3 Min: 8 Max: 200\n",
      "Episode: 3300 Average: 140.11 Min: 41 Max: 200\n",
      "Episode: 3400 Average: 132.41 Min: 11 Max: 200\n",
      "Episode: 3500 Average: 141.47 Min: 24 Max: 200\n",
      "Episode: 3600 Average: 139.09 Min: 26 Max: 200\n",
      "Episode: 3700 Average: 146.18 Min: 12 Max: 200\n",
      "Episode: 3800 Average: 143.95 Min: 19 Max: 200\n",
      "Episode: 3900 Average: 153.2 Min: 28 Max: 200\n",
      "Episode: 4000 Average: 145.18 Min: 56 Max: 200\n",
      "Episode: 4100 Average: 160.59 Min: 66 Max: 200\n",
      "Episode: 4200 Average: 176.54 Min: 25 Max: 200\n",
      "Episode: 4300 Average: 163.18 Min: 87 Max: 200\n",
      "Episode: 4400 Average: 178.86 Min: 104 Max: 200\n",
      "Episode: 4500 Average: 176.94 Min: 66 Max: 200\n",
      "Episode: 4600 Average: 172.54 Min: 90 Max: 200\n",
      "Episode: 4700 Average: 181.7 Min: 70 Max: 200\n",
      "Episode: 4800 Average: 180.47 Min: 123 Max: 200\n",
      "Episode: 4900 Average: 179.28 Min: 101 Max: 200\n",
      "Episode: 5000 Average: 159.31 Min: 129 Max: 200\n",
      "Episode: 5100 Average: 148.0 Min: 126 Max: 170\n",
      "Episode: 5200 Average: 153.48 Min: 132 Max: 189\n",
      "Episode: 5300 Average: 152.52 Min: 128 Max: 179\n",
      "Episode: 5400 Average: 150.68 Min: 130 Max: 185\n",
      "Episode: 5500 Average: 154.89 Min: 135 Max: 181\n",
      "Episode: 5600 Average: 154.04 Min: 137 Max: 187\n",
      "Episode: 5700 Average: 153.14 Min: 135 Max: 185\n",
      "Episode: 5800 Average: 150.72 Min: 126 Max: 189\n",
      "Episode: 5900 Average: 151.55 Min: 126 Max: 184\n",
      "Episode: 6000 Average: 150.3 Min: 130 Max: 182\n",
      "Episode: 6100 Average: 153.17 Min: 128 Max: 191\n",
      "Episode: 6200 Average: 152.52 Min: 129 Max: 179\n",
      "Episode: 6300 Average: 150.57 Min: 118 Max: 182\n",
      "Episode: 6400 Average: 149.11 Min: 126 Max: 177\n",
      "Episode: 6500 Average: 147.82 Min: 129 Max: 180\n",
      "Episode: 6600 Average: 151.71 Min: 126 Max: 177\n",
      "Episode: 6700 Average: 150.54 Min: 130 Max: 176\n",
      "Episode: 6800 Average: 148.53 Min: 116 Max: 177\n",
      "Episode: 6900 Average: 159.02 Min: 120 Max: 200\n",
      "Episode: 7000 Average: 158.09 Min: 122 Max: 193\n",
      "Episode: 7100 Average: 156.74 Min: 122 Max: 190\n",
      "Episode: 7200 Average: 159.91 Min: 134 Max: 193\n",
      "Episode: 7300 Average: 156.31 Min: 124 Max: 188\n",
      "Episode: 7400 Average: 159.14 Min: 138 Max: 195\n",
      "Episode: 7500 Average: 157.97 Min: 134 Max: 184\n",
      "Episode: 7600 Average: 159.42 Min: 130 Max: 193\n",
      "Episode: 7700 Average: 157.58 Min: 132 Max: 197\n",
      "Episode: 7800 Average: 154.78 Min: 134 Max: 183\n",
      "Episode: 7900 Average: 152.09 Min: 122 Max: 178\n",
      "Episode: 8000 Average: 154.26 Min: 117 Max: 192\n",
      "Episode: 8100 Average: 152.59 Min: 126 Max: 179\n",
      "Episode: 8200 Average: 149.9 Min: 117 Max: 184\n",
      "Episode: 8300 Average: 151.1 Min: 120 Max: 177\n",
      "Episode: 8400 Average: 151.52 Min: 113 Max: 184\n",
      "Episode: 8500 Average: 160.25 Min: 125 Max: 200\n",
      "Episode: 8600 Average: 159.2 Min: 118 Max: 200\n",
      "Episode: 8700 Average: 153.27 Min: 116 Max: 200\n",
      "Episode: 8800 Average: 154.81 Min: 121 Max: 190\n",
      "Episode: 8900 Average: 155.81 Min: 127 Max: 200\n",
      "Episode: 9000 Average: 154.59 Min: 127 Max: 195\n",
      "Episode: 9100 Average: 154.5 Min: 126 Max: 195\n",
      "Episode: 9200 Average: 161.12 Min: 132 Max: 200\n",
      "Episode: 9300 Average: 160.57 Min: 136 Max: 197\n",
      "Episode: 9400 Average: 159.39 Min: 118 Max: 200\n",
      "Episode: 9500 Average: 159.58 Min: 126 Max: 200\n",
      "Episode: 9600 Average: 167.38 Min: 120 Max: 200\n",
      "Episode: 9700 Average: 163.73 Min: 134 Max: 200\n",
      "Episode: 9800 Average: 164.33 Min: 126 Max: 200\n",
      "Episode: 9900 Average: 162.1 Min: 131 Max: 196\n"
     ]
    },
    {
     "data": {
      "image/png": "[encoded data removed]",
      "text/plain": [
       "<Figure size 432x288 with 1 Axes>"
      ]
     },
     "metadata": {
      "needs_background": "light"
     },
     "output_type": "display_data"
    }
   ],
   "source": [
    "epsilon = 1  # this value will be decayed\n",
    "epsilon_decaying_start = 1\n",
    "epsilon_decaying_end = episodes // 2\n",
    "epsilon_decay_value = epsilon / (epsilon_decaying_end - epsilon_decaying_start)\n",
    "\n",
    "# For q table, discrete state index is given\n",
    "def d_state(state, bins, space_size_obs):\n",
    "    index = []\n",
    "    for i in range(space_size_obs):\n",
    "        index.append(np.digitize(state[i], bins[i]) - 1) \n",
    "    return tuple(index)\n",
    "\n",
    "\n",
    "bins, space_size_obs, qTable = q_table()\n",
    "\n",
    "prev_count = []   #array to store scores after each episode\n",
    "metrics = {'eps': [], 'avg_rew': [], 'min_rew': [], 'max_rew': []}  # for plot\n",
    "\n",
    "for episode in range(episodes):\n",
    "    state_discrete = d_state(env.reset(), bins, space_size_obs)\n",
    "    done = False   \n",
    "    count = 0  \n",
    "\n",
    "    while not done:\n",
    "        if episode % update == 0:\n",
    "            env.render()  \n",
    "\n",
    "        count += 1\n",
    "        #Q table for action\n",
    "        if np.random.random() > epsilon:\n",
    "            action = np.argmax(qTable[state_discrete])\n",
    "      \n",
    "        else:\n",
    "            action = np.random.randint(0, env.action_space.n)\n",
    "        newState, reward, done, _ = env.step(action) \n",
    "\n",
    "        discretestate_new = d_state(newState, bins, space_size_obs)\n",
    "\n",
    "        futureQ_max = np.max(qTable[discretestate_new])  # future value estimation\n",
    "        currentQ = qTable[state_discrete + (action, )]  # Current value\n",
    "        # giving penalty\n",
    "        if done and count < 200:\n",
    "            reward = -375\n",
    "\n",
    "        # Calculation of Q values\n",
    "        newQ = (1 - lr) * currentQ + lr * (reward + gamma * futureQ_max)\n",
    "        qTable[state_discrete + (action, )] = newQ  # New q value is updated\n",
    "\n",
    "        state_discrete = discretestate_new\n",
    "\n",
    "    prev_count.append(count)\n",
    "\n",
    "    # If the episode number is inside the decaying range, every episode is decayed.\n",
    "    if epsilon_decaying_end >= episode >= epsilon_decaying_start:\n",
    "        epsilon -= epsilon_decay_value\n",
    "\n",
    "    # for graph\n",
    "    if episode % timestep == 0:\n",
    "        latestepisode = prev_count[-timestep:]\n",
    "        avg_count = sum(latestepisode) / len(latestepisode)\n",
    "        metrics['eps'].append(episode)\n",
    "        metrics['avg_rew'].append(avg_count)\n",
    "        metrics['min_rew'].append(min(latestepisode))\n",
    "        metrics['max_rew'].append(max(latestepisode))\n",
    "        print(\"Episode:\", episode, \"Average:\", avg_count, \"Min:\", min(latestepisode), \"Max:\", max(latestepisode))\n",
    "\n",
    "\n",
    "env.close()\n",
    "\n",
    "# Plot graph\n",
    "plt.plot(metrics['eps'], metrics['avg_rew'], label=\"average rewards\")\n",
    "plt.plot(metrics['eps'], metrics['min_rew'], label=\"min rewards\")\n",
    "plt.plot(metrics['eps'], metrics['max_rew'], label=\"max rewards\")\n",
    "plt.xlabel(\"Episode\")\n",
    "plt.ylabel(\"Reward\")\n",
    "plt.legend(loc=4)\n",
    "plt.show()"
   ]
  },
  {
   "cell_type": "code",
   "execution_count": null,
   "metadata": {},
   "outputs": [],
   "source": []
  }
 ],
 "metadata": {
  "kernelspec": {
   "display_name": "Python 3",
   "language": "python",
   "name": "python3"
  },
  "language_info": {
   "codemirror_mode": {
    "name": "ipython",
    "version": 3
   },
   "file_extension": ".py",
   "mimetype": "text/x-python",
   "name": "python",
   "nbconvert_exporter": "python",
   "pygments_lexer": "ipython3",
   "version": "3.8.5"
  }
 },
 "nbformat": 4,
 "nbformat_minor": 4
}
